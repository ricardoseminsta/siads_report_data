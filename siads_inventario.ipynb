{
 "cells": [
  {
   "cell_type": "code",
   "execution_count": 6,
   "id": "1505245e",
   "metadata": {},
   "outputs": [
    {
     "name": "stdout",
     "output_type": "stream",
     "text": [
      "<class 'list'>\n"
     ]
    }
   ],
   "source": [
    "import pandas as pd\n",
    "import tabula\n",
    "\n",
    "\n",
    "siads = tabula.read_pdf(\"SIADS_RelatorioInventario.pdf\", pages='all', encoding='latin-1')\n",
    "print(type(siads))\n"
   ]
  },
  {
   "cell_type": "code",
   "execution_count": 36,
   "id": "f8aa8f67",
   "metadata": {},
   "outputs": [
    {
     "name": "stdout",
     "output_type": "stream",
     "text": [
      "<class 'list'>\n",
      "4\n",
      "26418 \n",
      "\n",
      "\n",
      " INST.FED.DE EDUC.,CIENC.E TEC.DE PERNAMBUCO    151911 \n",
      "\n",
      "\n",
      " IFPE \n",
      "\n",
      "\n",
      " CAMPUS AFOGADOS DA INGAZEIRA\n",
      "MATERIAL:                                                                     CONTA: 1 a 9999999999\n",
      "TODOS                                                                                           NaN\n",
      "Name: 0, dtype: object\n",
      "\n",
      "\n",
      "151911\n",
      "['26418 ', '151911', ' IFPE ', ' CAMPUS AFOGADOS DA INGAZEIRA\\nMATERIAL:                                                                     CONTA: 1 a 9999999999\\nTODOS                                                                                           NaN\\nName: 0, dtype: object']\n"
     ]
    }
   ],
   "source": [
    "pd.set_option('max_colwidth', 100)\n",
    "\n",
    "# print(siads[0])\n",
    "print(type(siads))\n",
    "\n",
    "content = f'{siads[0].iloc[0]}'\n",
    "content = content.strip()\n",
    "content = content.split('-')\n",
    "if len(content) == 4:\n",
    "    print(len(content))\n",
    "    \n",
    "    for i in range (0, len(content)):\n",
    "        print(content[i])\n",
    "        print('\\n')\n",
    "    # print(content)\n",
    "    content[1] = content[1].strip()\n",
    "    content[1] = content[1].split(' ')\n",
    "    content[1] = content[1][-1]\n",
    "    print(content[1])\n",
    "    print(content)\n",
    "    \n",
    "    \n",
    "    ug = [content[0]]\n",
    "    uasg = content[1]"
   ]
  },
  {
   "cell_type": "code",
   "execution_count": 37,
   "id": "2c448e10",
   "metadata": {},
   "outputs": [
    {
     "data": {
      "text/html": [
       "<div>\n",
       "<style scoped>\n",
       "    .dataframe tbody tr th:only-of-type {\n",
       "        vertical-align: middle;\n",
       "    }\n",
       "\n",
       "    .dataframe tbody tr th {\n",
       "        vertical-align: top;\n",
       "    }\n",
       "\n",
       "    .dataframe thead th {\n",
       "        text-align: right;\n",
       "    }\n",
       "</style>\n",
       "<table border=\"1\" class=\"dataframe\">\n",
       "  <thead>\n",
       "    <tr style=\"text-align: right;\">\n",
       "      <th></th>\n",
       "      <th>uasg</th>\n",
       "      <th>ug</th>\n",
       "      <th>uorg</th>\n",
       "      <th>data_base</th>\n",
       "      <th>conta</th>\n",
       "      <th>cod_subitem</th>\n",
       "      <th>desc_subitem</th>\n",
       "      <th>codigo</th>\n",
       "      <th>descricao</th>\n",
       "      <th>und_fornecimento</th>\n",
       "      <th>qtd</th>\n",
       "      <th>vlr_unit</th>\n",
       "      <th>vlr_total</th>\n",
       "    </tr>\n",
       "  </thead>\n",
       "  <tbody>\n",
       "    <tr>\n",
       "      <th>0</th>\n",
       "      <td>151911</td>\n",
       "      <td>26418</td>\n",
       "      <td>NaN</td>\n",
       "      <td>NaN</td>\n",
       "      <td>NaN</td>\n",
       "      <td>NaN</td>\n",
       "      <td>NaN</td>\n",
       "      <td>NaN</td>\n",
       "      <td>NaN</td>\n",
       "      <td>NaN</td>\n",
       "      <td>NaN</td>\n",
       "      <td>NaN</td>\n",
       "      <td>NaN</td>\n",
       "    </tr>\n",
       "  </tbody>\n",
       "</table>\n",
       "</div>"
      ],
      "text/plain": [
       "     uasg      ug uorg data_base conta cod_subitem desc_subitem codigo  \\\n",
       "0  151911  26418   NaN       NaN   NaN         NaN          NaN    NaN   \n",
       "\n",
       "  descricao und_fornecimento  qtd vlr_unit vlr_total  \n",
       "0       NaN              NaN  NaN      NaN       NaN  "
      ]
     },
     "metadata": {},
     "output_type": "display_data"
    }
   ],
   "source": [
    "siads_df = pd.DataFrame(columns=['uasg', 'ug', 'uorg', 'data_base', 'conta', 'cod_subitem', 'desc_subitem', 'codigo', 'descricao', 'und_fornecimento', 'qtd', 'vlr_unit', 'vlr_total'])\n",
    "\n",
    "siads_df['ug'] = ug\n",
    "siads_df['uasg'] = uasg\n",
    "display(siads_df)"
   ]
  },
  {
   "cell_type": "code",
   "execution_count": 43,
   "id": "c42c8763-bcff-41f9-af07-1a1a7a5fe347",
   "metadata": {},
   "outputs": [
    {
     "name": "stdout",
     "output_type": "stream",
     "text": [
      "['26418 ', ' INST.FED.DE EDUC.,CIENC.E TEC.DE PERNAMBUCO    151911 ', ' IFPE ', ' CAMPUS AFOGADOS DA INGAZEIRA\\nMATERIAL:                                                                     CONTA: 1 a 9999999999\\nTODOS                                                                                           NaN\\nName: 0, dtype: object']\n"
     ]
    }
   ],
   "source": []
  },
  {
   "cell_type": "code",
   "execution_count": 41,
   "id": "fc250d0a-3571-48b0-bccb-7347fa186c0d",
   "metadata": {},
   "outputs": [
    {
     "name": "stdout",
     "output_type": "stream",
     "text": [
      "322\n",
      "4\n",
      "26418 \n",
      "\n",
      "\n",
      " INST.FED.DE EDUC.,CIENC.E TEC.DE PERNAMBUCO    151911 \n",
      "\n",
      "\n",
      " IFPE \n",
      "\n",
      "\n",
      " CAMPUS AFOGADOS DA INGAZEIRA\n",
      "MATERIAL:                                                                     CONTA: 1 a 9999999999\n",
      "TODOS                                                                                           NaN\n",
      "Name: 0, dtype: object\n",
      "\n",
      "\n"
     ]
    }
   ],
   "source": []
  },
  {
   "cell_type": "code",
   "execution_count": null,
   "id": "95bc5cac-9ffb-424a-9c4a-6f1f7f1364d4",
   "metadata": {},
   "outputs": [],
   "source": []
  }
 ],
 "metadata": {
  "kernelspec": {
   "display_name": "Python 3 (ipykernel)",
   "language": "python",
   "name": "python3"
  },
  "language_info": {
   "codemirror_mode": {
    "name": "ipython",
    "version": 3
   },
   "file_extension": ".py",
   "mimetype": "text/x-python",
   "name": "python",
   "nbconvert_exporter": "python",
   "pygments_lexer": "ipython3",
   "version": "3.12.4"
  }
 },
 "nbformat": 4,
 "nbformat_minor": 5
}
