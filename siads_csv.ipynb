{
 "cells": [
  {
   "cell_type": "code",
   "execution_count": 91,
   "id": "5fa25ac3-aafd-47e8-a684-3a8ed9ffbc2a",
   "metadata": {},
   "outputs": [
    {
     "name": "stdout",
     "output_type": "stream",
     "text": [
      "11      NaN\n",
      "12      NaN\n",
      "13      NaN\n",
      "18      NaN\n",
      "23      NaN\n",
      "       ... \n",
      "2897    NaN\n",
      "2902    NaN\n",
      "2907    NaN\n",
      "2912    NaN\n",
      "2917    NaN\n",
      "Name: MATERIAL:, Length: 584, dtype: object\n"
     ]
    }
   ],
   "source": [
    "import pandas as pd\n",
    "pd.set_option('max_colwidth', 100)\n",
    "\n",
    "siads_csv = pd.read_csv('2024-10-17-SIADS_RelatorioInventario.csv', on_bad_lines='skip', encoding='utf-8')\n",
    "\n",
    "# siads_csv = siads_csv[['Unnamed: 0', 'Unnamed: 12', 'Unnamed: 14']]\n",
    "uasg = '151911'\n",
    "ug = '26418'\n",
    "ourg = '74691'\n",
    "# Remover valores NaN da coluna 'Unnamed: 0' antes de aplicar .str.contains()\n",
    "siads_csv = siads_csv[siads_csv['Unnamed: 0'].notna()]\n",
    "\n",
    "# Aplicar o filtro somente nas linhas que contém '-'\n",
    "# siads_csv = siads_csv[siads_csv['Unnamed: 0'].str.contains('-')]\n",
    "print(siads_csv['MATERIAL:'].str.contains('-'))\n",
    "siads_csv.to_clipboard(index=False)\n",
    "# display(siads_csv)"
   ]
  },
  {
   "cell_type": "code",
   "execution_count": 65,
   "id": "3769890f-af40-43b0-a8e2-9960b04e2ddb",
   "metadata": {},
   "outputs": [
    {
     "name": "stdout",
     "output_type": "stream",
     "text": [
      "Unnamed: 0     [CONTA,  115610100 - MATERIAIS DE CONSUMO]\n",
      "Unnamed: 12                                           NaN\n",
      "Unnamed: 14                                           NaN\n",
      "Name: 11, dtype: object\n"
     ]
    }
   ],
   "source": [
    "# print(siads_csv.iloc[0].str.contains(':') )\n",
    "print(siads_csv.iloc[0].str.split(':') )"
   ]
  },
  {
   "cell_type": "code",
   "execution_count": null,
   "id": "250b67f6-c09b-4d85-8a8a-00fce114dd59",
   "metadata": {},
   "outputs": [],
   "source": [
    "siads_df = pd.DataFrame(columns=)"
   ]
  },
  {
   "cell_type": "code",
   "execution_count": 3,
   "id": "3b5f182d-68ea-41c9-8b19-ee54f4a6219e",
   "metadata": {},
   "outputs": [
    {
     "name": "stderr",
     "output_type": "stream",
     "text": [
      "C:\\Users\\Ricar\\anaconda3\\Lib\\site-packages\\openpyxl\\styles\\stylesheet.py:226: UserWarning: Workbook contains no default style, apply openpyxl's default\n",
      "  warn(\"Workbook contains no default style, apply openpyxl's default\")\n"
     ]
    },
    {
     "name": "stdout",
     "output_type": "stream",
     "text": [
      "<class 'pandas.core.frame.DataFrame'>\n",
      "RangeIndex: 10219 entries, 0 to 10218\n",
      "Data columns (total 40 columns):\n",
      " #   Column       Non-Null Count  Dtype  \n",
      "---  ------       --------------  -----  \n",
      " 0   Unnamed: 0   0 non-null      float64\n",
      " 1   Unnamed: 1   289 non-null    object \n",
      " 2   Unnamed: 2   86 non-null     object \n",
      " 3   Unnamed: 3   414 non-null    object \n",
      " 4   Unnamed: 4   0 non-null      float64\n",
      " 5   Unnamed: 5   414 non-null    object \n",
      " 6   Unnamed: 6   414 non-null    object \n",
      " 7   Unnamed: 7   0 non-null      float64\n",
      " 8   Unnamed: 8   0 non-null      float64\n",
      " 9   Unnamed: 9   86 non-null     object \n",
      " 10  Unnamed: 10  414 non-null    object \n",
      " 11  Unnamed: 11  0 non-null      float64\n",
      " 12  Unnamed: 12  0 non-null      float64\n",
      " 13  Unnamed: 13  340 non-null    object \n",
      " 14  Unnamed: 14  4 non-null      object \n",
      " 15  Unnamed: 15  0 non-null      float64\n",
      " 16  Unnamed: 16  0 non-null      float64\n",
      " 17  Unnamed: 17  0 non-null      float64\n",
      " 18  Unnamed: 18  0 non-null      float64\n",
      " 19  Unnamed: 19  0 non-null      float64\n",
      " 20  Unnamed: 20  413 non-null    object \n",
      " 21  Unnamed: 21  414 non-null    object \n",
      " 22  Unnamed: 22  414 non-null    float64\n",
      " 23  Unnamed: 23  86 non-null     object \n",
      " 24  Unnamed: 24  2 non-null      object \n",
      " 25  Unnamed: 25  0 non-null      float64\n",
      " 26  Unnamed: 26  425 non-null    object \n",
      " 27  Unnamed: 27  5 non-null      object \n",
      " 28  Unnamed: 28  0 non-null      float64\n",
      " 29  Unnamed: 29  0 non-null      float64\n",
      " 30  Unnamed: 30  0 non-null      float64\n",
      " 31  Unnamed: 31  86 non-null     object \n",
      " 32  Unnamed: 32  426 non-null    object \n",
      " 33  Unnamed: 33  20 non-null     object \n",
      " 34  Unnamed: 34  88 non-null     object \n",
      " 35  Unnamed: 35  1 non-null      object \n",
      " 36  Unnamed: 36  1 non-null      object \n",
      " 37  Unnamed: 37  85 non-null     object \n",
      " 38  Unnamed: 38  86 non-null     object \n",
      " 39  Unnamed: 39  1 non-null      float64\n",
      "dtypes: float64(17), object(23)\n",
      "memory usage: 3.1+ MB\n",
      "None\n"
     ]
    }
   ],
   "source": [
    "# Lendo todas as abas do arquivo Excel\n",
    "file_path = '2021-10-17-SIADS_RelatorioInventario.xls'\n",
    "siads_excel = pd.read_excel(file_path, sheet_name=None)\n",
    "\n",
    "# Concatenando todas as abas em um único DataFrame\n",
    "combined_df = pd.concat(siads_excel.values(), ignore_index=True)\n",
    "combined_df = combined_df\n",
    "\n",
    "# Exibindo as primeiras linhas do DataFrame combinado\n",
    "print(combined_df.info())\n"
   ]
  },
  {
   "cell_type": "code",
   "execution_count": 4,
   "id": "b20ee1de-bed9-425c-ab58-458b01061d4c",
   "metadata": {},
   "outputs": [],
   "source": [
    "combined_df.to_clipboard(index=False)"
   ]
  },
  {
   "cell_type": "code",
   "execution_count": null,
   "id": "d24f8b25-bb74-4ce6-bc8c-d11a587708f9",
   "metadata": {},
   "outputs": [],
   "source": []
  }
 ],
 "metadata": {
  "kernelspec": {
   "display_name": "Python 3 (ipykernel)",
   "language": "python",
   "name": "python3"
  },
  "language_info": {
   "codemirror_mode": {
    "name": "ipython",
    "version": 3
   },
   "file_extension": ".py",
   "mimetype": "text/x-python",
   "name": "python",
   "nbconvert_exporter": "python",
   "pygments_lexer": "ipython3",
   "version": "3.12.3"
  }
 },
 "nbformat": 4,
 "nbformat_minor": 5
}
